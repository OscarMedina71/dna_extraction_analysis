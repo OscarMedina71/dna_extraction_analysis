{
 "cells": [
  {
   "cell_type": "code",
   "execution_count": null,
   "id": "b0cd0a66-72b9-4d80-b17a-0502322ce953",
   "metadata": {},
   "outputs": [],
   "source": [
    "#COMPARACIÓN DE MÉTODOS DE EXTRACCIÓN DE ADN"
   ]
  },
  {
   "cell_type": "code",
   "execution_count": null,
   "id": "4aa83bcf-f51a-4ca6-8ce6-4801970882af",
   "metadata": {},
   "outputs": [],
   "source": [
    "#El objetivo de este miniproyecto es analizar datos de diferentes métodos de extracción de ADN en distintas especies para identificar cuál\n",
    "# método produce un mayor rendimiento y cuales son los mejores métodos para cada especie presentada."
   ]
  },
  {
   "cell_type": "code",
   "execution_count": 54,
   "id": "25b74c2e-fa57-4eaa-ba3f-5e417b4960d1",
   "metadata": {},
   "outputs": [
    {
     "name": "stdout",
     "output_type": "stream",
     "text": [
      "   Muestra      Especie            Metodo  Rendimiento  Pureza\n",
      "0       M1         Maíz              CTAB         24.1    1.82\n",
      "1       M2         Maíz              CTAB         22.8    1.79\n",
      "2       M3         Maíz              CTAB         25.3    1.85\n",
      "3       M4         Maíz     Kit Comercial         30.1    1.76\n",
      "4       M5         Maíz     Kit Comercial         29.8    1.80\n",
      "5       M6       Tomate              CTAB         23.7    1.74\n",
      "6       M7       Tomate              CTAB         24.0    1.77\n",
      "7       M8       Tomate     Kit Comercial         31.2    1.79\n",
      "8       M9       Tomate     Kit Comercial         29.5    1.75\n",
      "9      M10       Tomate     Kit Comercial         30.0    1.80\n",
      "10     M11  Arabidopsis              CTAB         19.6    1.88\n",
      "11     M12  Arabidopsis     Kit Comercial         20.1    1.85\n",
      "12     M13  Arabidopsis  Fenol-Cloroformo         21.3    1.86\n",
      "13     M14  Arabidopsis  Fenol-Cloroformo         22.7    1.83\n",
      "14     M15  Arabidopsis              CTAB         20.0    1.84\n",
      "15     M16         Maíz  Fenol-Cloroformo         26.5    1.81\n",
      "16     M17       Tomate  Fenol-Cloroformo         27.1    1.80\n",
      "17     M18  Arabidopsis     Kit Comercial         21.9    1.87\n",
      "18     M19         Maíz              CTAB         23.5    1.78\n",
      "19     M20       Tomate              CTAB         24.8    1.76\n",
      "20     M21  Arabidopsis     Kit Comercial         20.4    1.89\n",
      "21     M22         Maíz  Fenol-Cloroformo         25.6    1.85\n",
      "22     M23       Tomate              CTAB         28.0    1.83\n",
      "23     M24  Arabidopsis     Kit Comercial         22.2    1.84\n",
      "24     M25         Maíz  Fenol-Cloroformo         24.9    1.82\n"
     ]
    }
   ],
   "source": [
    "import pandas as pd\n",
    "import matplotlib.pyplot as plt\n",
    "\n",
    "df = {\n",
    "    \"Muestra\": [f\"M{i+1}\" for i in range(25)],\n",
    "    \"Especie\": [\n",
    "        \"Maíz\", \"Maíz\", \"Maíz\", \"Maíz\", \"Maíz\",\n",
    "        \"Tomate\", \"Tomate\", \"Tomate\", \"Tomate\", \"Tomate\",\n",
    "        \"Arabidopsis\", \"Arabidopsis\", \"Arabidopsis\", \"Arabidopsis\", \"Arabidopsis\",\n",
    "        \"Maíz\", \"Tomate\", \"Arabidopsis\", \"Maíz\", \"Tomate\",\n",
    "        \"Arabidopsis\", \"Maíz\", \"Tomate\", \"Arabidopsis\", \"Maíz\"\n",
    "    ],\n",
    "    \"Metodo\": [\n",
    "        \"CTAB\", \"CTAB\", \"CTAB\", \"Kit Comercial\", \"Kit Comercial\",\n",
    "        \"CTAB\", \"CTAB\", \"Kit Comercial\", \"Kit Comercial\", \"Kit Comercial\",\n",
    "        \"CTAB\", \"Kit Comercial\", \"Fenol-Cloroformo\", \"Fenol-Cloroformo\", \"CTAB\",\n",
    "        \"Fenol-Cloroformo\", \"Fenol-Cloroformo\", \"Kit Comercial\", \"CTAB\", \"CTAB\",\n",
    "        \"Kit Comercial\", \"Fenol-Cloroformo\", \"CTAB\", \"Kit Comercial\", \"Fenol-Cloroformo\"\n",
    "    ],\n",
    "    \"Rendimiento\": [\n",
    "        24.1, 22.8, 25.3, 30.1, 29.8,\n",
    "        23.7, 24.0, 31.2, 29.5, 30.0,\n",
    "        19.6, 20.1, 21.3, 22.7, 20.0,\n",
    "        26.5, 27.1, 21.9, 23.5, 24.8,\n",
    "        20.4, 25.6, 28.0, 22.2, 24.9\n",
    "    ],\n",
    "    \"Pureza\": [\n",
    "        1.82, 1.79, 1.85, 1.76, 1.80,\n",
    "        1.74, 1.77, 1.79, 1.75, 1.80,\n",
    "        1.88, 1.85, 1.86, 1.83, 1.84,\n",
    "        1.81, 1.80, 1.87, 1.78, 1.76,\n",
    "        1.89, 1.85, 1.83, 1.84, 1.82\n",
    "    ]\n",
    "}\n",
    "\n",
    "df_limpio = pd.DataFrame(df) #Convertir a DataFrame nuestros datos\n",
    "print(df_limpio)"
   ]
  },
  {
   "cell_type": "code",
   "execution_count": 48,
   "id": "d9af84c4-272c-4312-a64f-dc4c7cbeaec4",
   "metadata": {},
   "outputs": [],
   "source": [
    "#Calcular el promedio de cada método basandonos en su rendimiento para verificar cuál es el mejor "
   ]
  },
  {
   "cell_type": "code",
   "execution_count": 57,
   "id": "e6ef6cd1-f06a-41e4-97c1-ebf548f1cd84",
   "metadata": {},
   "outputs": [
    {
     "data": {
      "image/png": "[encoded data removed]",
      "text/plain": [
       "<Figure size 600x400 with 1 Axes>"
      ]
     },
     "metadata": {},
     "output_type": "display_data"
    },
    {
     "name": "stdout",
     "output_type": "stream",
     "text": [
      "Metodo\n",
      "CTAB                23.580000\n",
      "Fenol-Cloroformo    24.683333\n",
      "Kit Comercial       26.133333\n",
      "Name: Rendimiento, dtype: float64\n",
      "El mejor promedio de rendimiento es del método:  Kit Comercial\n"
     ]
    }
   ],
   "source": [
    "promedio_rendimiento = df_limpio.groupby(\"Metodo\")[\"Rendimiento\"].mean() #Agrupamos por Método y Rendimiento y sacamos el promedio de cada uno\n",
    "mejor_metodo = promedio_rendimiento.idxmax() #Obtenemos el Método con el mejor promedio\n",
    "\n",
    "#Gráfico de barras de promedio de cada método\n",
    "promedio_rendimiento.plot(kind=\"bar\", figsize=(6,4), legend=False) #(kind = bar) es el tipo de gráfico que queremos, figsize=(6,4) ancho y alto de la barra, desactivar leyenda\n",
    "plt.title(\"Rendimiento Promedio por Método de Extracción\")\n",
    "plt.xlabel(\"Método de Extracción\")\n",
    "plt.ylabel(\"Rendimiento\")\n",
    "plt.xticks(rotation=45) #Modifica las etiquetas del eje X y las rota 45 grados.\n",
    "plt.tight_layout()#Ajusta automáticamente la posición de todos los elementos del gráfico para que no se corten o encimen.\n",
    "plt.savefig(\"rendimiento_por_metodo.png\")\n",
    "plt.show()\n",
    "\n",
    "print(promedio_rendimiento) \n",
    "print(\"El mejor promedio de rendimiento es del método: \", mejor_metodo) "
   ]
  },
  {
   "cell_type": "code",
   "execution_count": 50,
   "id": "1e9f08e3-d04e-4537-a3c1-494959bfea56",
   "metadata": {},
   "outputs": [],
   "source": [
    "#Calcular el promedio de la pureza en cada especie"
   ]
  },
  {
   "cell_type": "code",
   "execution_count": 55,
   "id": "d49518a4-590d-4299-8400-c0ff7f85dc25",
   "metadata": {},
   "outputs": [
    {
     "name": "stdout",
     "output_type": "stream",
     "text": [
      "Especie\n",
      "Arabidopsis    1.857500\n",
      "Maíz           1.808889\n",
      "Tomate         1.780000\n",
      "Name: Pureza, dtype: float64\n",
      "El mejor promedio de pureza es la especie:  Arabidopsis\n"
     ]
    }
   ],
   "source": [
    "promedio_pureza = df_limpio.groupby(\"Especie\")[\"Pureza\"].mean() #Agrupamos por Especia y Pureza y sacamos el promedio de cada uno\n",
    "print(promedio_pureza)\n",
    "mejor_especie = promedio_pureza.idxmax() #Obtenemos la especia con el mejor promedio de pureza\n",
    "print(\"El mejor promedio de pureza es la especie: \",mejor_especie)\n"
   ]
  },
  {
   "cell_type": "code",
   "execution_count": 35,
   "id": "b8e7edf3-88c2-481f-9448-5bf589c4dc06",
   "metadata": {},
   "outputs": [],
   "source": [
    "#Mejor rendimiento con la mejor especie"
   ]
  },
  {
   "cell_type": "code",
   "execution_count": 36,
   "id": "6c087265-83a1-4496-9e1b-17ff8760befa",
   "metadata": {},
   "outputs": [
    {
     "name": "stdout",
     "output_type": "stream",
     "text": [
      "   Muestra      Especie         Metodo  Rendimiento  Pureza\n",
      "11     M12  Arabidopsis  Kit Comercial         20.1    1.85\n",
      "17     M18  Arabidopsis  Kit Comercial         21.9    1.87\n",
      "20     M21  Arabidopsis  Kit Comercial         20.4    1.89\n",
      "23     M24  Arabidopsis  Kit Comercial         22.2    1.84\n"
     ]
    }
   ],
   "source": [
    "condicion = df_limpio[(df_limpio[\"Especie\"]== mejor_especie)& (df_limpio[\"Metodo\"]==mejor_metodo)] #Si la especie es igual a la mejor especie, es decir \"Arabidopsis\" y si el metodo es igual al mejor método, es decir \"Kit comercial\"\n",
    "print (condicion)#Imprime las líneas de datos que contengan esta condición"
   ]
  },
  {
   "cell_type": "code",
   "execution_count": 38,
   "id": "4531b4dd-d17c-4855-b9d2-730dd9e3105b",
   "metadata": {},
   "outputs": [
    {
     "name": "stdout",
     "output_type": "stream",
     "text": [
      "Especie      Metodo          \n",
      "Arabidopsis  CTAB                19.800000\n",
      "             Fenol-Cloroformo    22.000000\n",
      "             Kit Comercial       21.150000\n",
      "Maíz         CTAB                23.925000\n",
      "             Fenol-Cloroformo    25.666667\n",
      "             Kit Comercial       29.950000\n",
      "Tomate       CTAB                25.125000\n",
      "             Fenol-Cloroformo    27.100000\n",
      "             Kit Comercial       30.233333\n",
      "Name: Rendimiento, dtype: float64\n"
     ]
    }
   ],
   "source": [
    "grupos = df_limpio.groupby([\"Especie\",\"Metodo\"])[\"Rendimiento\"].mean()\n",
    "mejor_metodo = grupos.groupby(level=0).idxmax()\n",
    "print(grupos)"
   ]
  },
  {
   "cell_type": "code",
   "execution_count": 39,
   "id": "89385a48-1cc4-415c-9be1-e0f58ed8c568",
   "metadata": {},
   "outputs": [
    {
     "name": "stdout",
     "output_type": "stream",
     "text": [
      "       Especie      Mejor Método\n",
      "0  Arabidopsis  Fenol-Cloroformo\n",
      "1         Maíz     Kit Comercial\n",
      "2       Tomate     Kit Comercial\n"
     ]
    }
   ],
   "source": [
    "mejor_metodo = grupos.groupby(level=0).idxmax() #Agrupa todos los datos según el primer nivel del índice (por especie), y para cada grupo dime cuál índice tiene el valor máximo\n",
    "resultado = mejor_metodo.apply(lambda x: x[1])  # De cada tupla, dame solo el segundo valor (x[1]) que corresponde al método\n",
    "resultado = resultado.reset_index()#Crea un nuevo índice\n",
    "resultado.columns = [\"Especie\", \"Mejor Método\"]#Renombra las columnas del Data Frame\n",
    "print(resultado)"
   ]
  },
  {
   "cell_type": "code",
   "execution_count": null,
   "id": "d394a48f-5720-40bf-8808-5c8bb31c9ffe",
   "metadata": {},
   "outputs": [],
   "source": []
  }
 ],
 "metadata": {
  "kernelspec": {
   "display_name": "Python 3 (ipykernel)",
   "language": "python",
   "name": "python3"
  },
  "language_info": {
   "codemirror_mode": {
    "name": "ipython",
    "version": 3
   },
   "file_extension": ".py",
   "mimetype": "text/x-python",
   "name": "python",
   "nbconvert_exporter": "python",
   "pygments_lexer": "ipython3",
   "version": "3.11.11"
  }
 },
 "nbformat": 4,
 "nbformat_minor": 5
}
